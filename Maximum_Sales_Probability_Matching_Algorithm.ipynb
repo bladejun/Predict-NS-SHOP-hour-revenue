{
  "nbformat": 4,
  "nbformat_minor": 0,
  "metadata": {
    "accelerator": "GPU",
    "colab": {
      "name": "Maximum_Sales_Probability_Matching_Algorithm.ipynb",
      "provenance": [],
      "collapsed_sections": [],
      "machine_shape": "hm"
    },
    "kernelspec": {
      "display_name": "Python 3",
      "language": "python",
      "name": "python3"
    },
    "language_info": {
      "codemirror_mode": {
        "name": "ipython",
        "version": 3
      },
      "file_extension": ".py",
      "mimetype": "text/x-python",
      "name": "python",
      "nbconvert_exporter": "python",
      "pygments_lexer": "ipython3",
      "version": "3.6.10"
    }
  },
  "cells": [
    {
      "cell_type": "markdown",
      "metadata": {
        "id": "-W5wH0FLo-tl"
      },
      "source": [
        "# MSPMA(Maximum Sales Probability Matching Algorithm)"
      ]
    },
    {
      "cell_type": "markdown",
      "metadata": {
        "id": "y7LVQrHuED4v"
      },
      "source": [
        "# 2020년 6월 1일의 시간대별 상품 취급액 예측 후 MSPMA로 새로운 편성 확인"
      ]
    },
    {
      "cell_type": "code",
      "metadata": {
        "id": "0EBNS8hKRq4-",
        "outputId": "921e53f4-0a06-4177-9b45-08a3ee9ed000",
        "colab": {
          "base_uri": "https://localhost:8080/",
          "height": 35
        }
      },
      "source": [
        "from google.colab import drive\n",
        "\n",
        "drive.mount('/content/drive')"
      ],
      "execution_count": 1,
      "outputs": [
        {
          "output_type": "stream",
          "text": [
            "Mounted at /content/drive\n"
          ],
          "name": "stdout"
        }
      ]
    },
    {
      "cell_type": "code",
      "metadata": {
        "id": "0LIzTk2esYHb"
      },
      "source": [
        "import pandas as pd\n",
        "import numpy as np\n",
        "import random\n",
        "import sys\n",
        "import re\n",
        "import matplotlib.pyplot as plt\n",
        "\n",
        "from sklearn.preprocessing import RobustScaler\n",
        "\n",
        "from keras.layers import Dense, Activation, Flatten, Conv1D, MaxPooling1D, AveragePooling1D, GlobalMaxPooling1D, Conv1DTranspose, concatenate, Input, add, Dropout, BatchNormalization\n",
        "from tensorflow.keras import Model"
      ],
      "execution_count": null,
      "outputs": []
    },
    {
      "cell_type": "code",
      "metadata": {
        "id": "3mXcRzg6IMUV"
      },
      "source": [
        "# 숫자 표기법 변환\n",
        "pd.set_option('display.float_format', '{:.2f}'.format)\n",
        "\n",
        "# 한글 깨짐 방지\n",
        "plt.rc('font', family='Malgun Gothic')\n",
        "\n",
        "# 도화지 크기 설정\n",
        "plt.rcParams['figure.figsize'] = (8, 8)"
      ],
      "execution_count": null,
      "outputs": []
    },
    {
      "cell_type": "markdown",
      "metadata": {
        "id": "qMDs8eO1sYHe"
      },
      "source": [
        "## 1. 테스트 데이터의 6월 1일만 추출하여 데이터 셋 만들기"
      ]
    },
    {
      "cell_type": "code",
      "metadata": {
        "id": "rJpxtuXxTnFV"
      },
      "source": [
        "org_test = pd.read_csv(\"/content/drive/Shared drives/빅콘테스트2020/data/data/02_평가데이터/test.csv\", header=1)"
      ],
      "execution_count": null,
      "outputs": []
    },
    {
      "cell_type": "code",
      "metadata": {
        "id": "6IYZqoejsYHf"
      },
      "source": [
        "test = pd.read_csv('/content/drive/Shared drives/빅콘테스트2020/real_test.csv')"
      ],
      "execution_count": null,
      "outputs": []
    },
    {
      "cell_type": "code",
      "metadata": {
        "id": "d0kxbKQbTuue"
      },
      "source": [
        "total_test = pd.concat([org_test, test], axis=1)"
      ],
      "execution_count": null,
      "outputs": []
    },
    {
      "cell_type": "code",
      "metadata": {
        "id": "8ydkXaz0TnFY"
      },
      "source": [
        "# 테스트 데이터에서 2020년 6월 1일의 row는 06시부터 02시(다음날이지만 한 싸이클로 포함)까지 79개\n",
        "june_1st = total_test.iloc[:79, :]"
      ],
      "execution_count": null,
      "outputs": []
    },
    {
      "cell_type": "code",
      "metadata": {
        "id": "zxWWuzBXTnFc",
        "outputId": "8cc6a268-a19a-4f83-e294-6fa3af0c722f",
        "colab": {
          "base_uri": "https://localhost:8080/",
          "height": 119
        }
      },
      "source": [
        "# 판매단가가 '-'인 것 0으로 채우기\n",
        "june_1st['판매단가'] = ['0' if x == ' - ' else x for x in june_1st['판매단가']]"
      ],
      "execution_count": null,
      "outputs": [
        {
          "output_type": "stream",
          "text": [
            "/usr/local/lib/python3.6/dist-packages/ipykernel_launcher.py:2: SettingWithCopyWarning: \n",
            "A value is trying to be set on a copy of a slice from a DataFrame.\n",
            "Try using .loc[row_indexer,col_indexer] = value instead\n",
            "\n",
            "See the caveats in the documentation: https://pandas.pydata.org/pandas-docs/stable/user_guide/indexing.html#returning-a-view-versus-a-copy\n",
            "  \n"
          ],
          "name": "stderr"
        }
      ]
    },
    {
      "cell_type": "code",
      "metadata": {
        "id": "IGwpwaiATnFf",
        "outputId": "32321803-f11d-473c-ef32-481100a4d15b",
        "colab": {
          "base_uri": "https://localhost:8080/",
          "height": 221
        }
      },
      "source": [
        "# 판매단가 integer 타입으로 변환\n",
        "june_1st['판매단가'] = [x.replace(',','').strip() for x in june_1st['판매단가']]\n",
        "june_1st['판매단가'] = june_1st['판매단가'].astype('int')"
      ],
      "execution_count": null,
      "outputs": [
        {
          "output_type": "stream",
          "text": [
            "/usr/local/lib/python3.6/dist-packages/ipykernel_launcher.py:2: SettingWithCopyWarning: \n",
            "A value is trying to be set on a copy of a slice from a DataFrame.\n",
            "Try using .loc[row_indexer,col_indexer] = value instead\n",
            "\n",
            "See the caveats in the documentation: https://pandas.pydata.org/pandas-docs/stable/user_guide/indexing.html#returning-a-view-versus-a-copy\n",
            "  \n",
            "/usr/local/lib/python3.6/dist-packages/ipykernel_launcher.py:3: SettingWithCopyWarning: \n",
            "A value is trying to be set on a copy of a slice from a DataFrame.\n",
            "Try using .loc[row_indexer,col_indexer] = value instead\n",
            "\n",
            "See the caveats in the documentation: https://pandas.pydata.org/pandas-docs/stable/user_guide/indexing.html#returning-a-view-versus-a-copy\n",
            "  This is separate from the ipykernel package so we can avoid doing imports until\n"
          ],
          "name": "stderr"
        }
      ]
    },
    {
      "cell_type": "code",
      "metadata": {
        "id": "nKRJYBipW9k8"
      },
      "source": [
        "# 표시된 것 이외에는 1시간에 3개 row씩 존재\n",
        "product1 = june_1st.iloc[:3,:]\n",
        "product2 = june_1st.iloc[3:6,:]\n",
        "product3 = june_1st.iloc[6:9,:]\n",
        "product4 = june_1st.iloc[9:12,:]\n",
        "product5 = june_1st.iloc[12:15,:]\n",
        "product6 = june_1st.iloc[15:18,:]\n",
        "product7 = june_1st.iloc[18:21,:]\n",
        "product8 = june_1st.iloc[21:27,:] # 6개\n",
        "product9 = june_1st.iloc[27:28,:] # 1개\n",
        "product10 = june_1st.iloc[28:31,:]\n",
        "product11 = june_1st.iloc[31:34,:]\n",
        "product12 = june_1st.iloc[34:40,:] # 6개\n",
        "product13 = june_1st.iloc[40:43,:]\n",
        "product14 = june_1st.iloc[43:46,:]\n",
        "product15 = june_1st.iloc[46:49,:]\n",
        "product16 = june_1st.iloc[49:58,:] # 9개\n",
        "product17 = june_1st.iloc[58:67,:] # 9개\n",
        "product18 = june_1st.iloc[67:73,:] # 6개\n",
        "product19 = june_1st.iloc[73:76,:]\n",
        "product20 = june_1st.iloc[76:79,:]"
      ],
      "execution_count": null,
      "outputs": []
    },
    {
      "cell_type": "code",
      "metadata": {
        "id": "9fscXAmXaZLj"
      },
      "source": [
        "# 각 시간대별 예측을 위해 시간 변수를 바꿔서 늘린 테스트 데이터의 마더코드별 데이터셋 구축\n",
        "product1_total = pd.DataFrame()\n",
        "product2_total = pd.DataFrame()\n",
        "product3_total = pd.DataFrame()\n",
        "product4_total = pd.DataFrame()\n",
        "product5_total = pd.DataFrame()\n",
        "product6_total = pd.DataFrame()\n",
        "product7_total = pd.DataFrame()\n",
        "product8_total = pd.DataFrame()\n",
        "product9_total = pd.DataFrame()\n",
        "product10_total = pd.DataFrame()\n",
        "product11_total = pd.DataFrame()\n",
        "product12_total = pd.DataFrame()\n",
        "product13_total = pd.DataFrame()\n",
        "product14_total = pd.DataFrame()\n",
        "product15_total = pd.DataFrame()\n",
        "product16_total = pd.DataFrame()\n",
        "product17_total = pd.DataFrame()\n",
        "product18_total = pd.DataFrame()\n",
        "product19_total = pd.DataFrame()\n",
        "product20_total = pd.DataFrame()"
      ],
      "execution_count": null,
      "outputs": []
    },
    {
      "cell_type": "code",
      "metadata": {
        "id": "DasQyBQQZFRY"
      },
      "source": [
        "# product1\n",
        "for i in range(20):\n",
        "  temp = product1.copy()\n",
        "  temp['시'] = [(i+6)%24, (i+6)%24, (i+7)%24]\n",
        "  temp['시간대'] = [str((i + 6)%24) + '시'] * 3\n",
        "  product1_total = product1_total.append(temp)\n",
        "  product1_total = product1_total.reset_index(drop=True)"
      ],
      "execution_count": null,
      "outputs": []
    },
    {
      "cell_type": "code",
      "metadata": {
        "id": "4yq5cQW2tZAh"
      },
      "source": [
        "# product2\n",
        "for i in range(20):\n",
        "  temp = product2.copy()\n",
        "  temp['시'] = [(i+6)%24, (i+6)%24, (i+7)%24]\n",
        "  temp['시간대'] = [str((i + 6)%24) + '시'] * 3\n",
        "  product2_total = product2_total.append(temp)\n",
        "  product2_total = product2_total.reset_index(drop=True)"
      ],
      "execution_count": null,
      "outputs": []
    },
    {
      "cell_type": "code",
      "metadata": {
        "id": "vxB4Qtb2tXyx"
      },
      "source": [
        "# product3\n",
        "for i in range(20):\n",
        "  temp = product3.copy()\n",
        "  temp['시'] = [(i+6)%24, (i+6)%24, (i+7)%24]\n",
        "  temp['시간대'] = [str((i + 6)%24) + '시'] * 3\n",
        "  product3_total = product3_total.append(temp)\n",
        "  product3_total = product3_total.reset_index(drop=True)"
      ],
      "execution_count": null,
      "outputs": []
    },
    {
      "cell_type": "code",
      "metadata": {
        "id": "ezIsF1OTtbLs"
      },
      "source": [
        "# product4\n",
        "for i in range(20):\n",
        "  temp = product4.copy()\n",
        "  temp['시'] = [(i+6)%24, (i+6)%24, (i+7)%24]\n",
        "  temp['시간대'] = [str((i + 6)%24) + '시'] * 3\n",
        "  product4_total = product4_total.append(temp)\n",
        "  product4_total = product4_total.reset_index(drop=True)"
      ],
      "execution_count": null,
      "outputs": []
    },
    {
      "cell_type": "code",
      "metadata": {
        "id": "tLQl9rH0tXfc"
      },
      "source": [
        "# product5\n",
        "for i in range(20):\n",
        "  temp = product5.copy()\n",
        "  temp['시'] = [(i+6)%24, (i+6)%24, (i+7)%24]\n",
        "  temp['시간대'] = [str((i + 6)%24) + '시'] * 3\n",
        "  product5_total = product5_total.append(temp)\n",
        "  product5_total = product5_total.reset_index(drop=True)"
      ],
      "execution_count": null,
      "outputs": []
    },
    {
      "cell_type": "code",
      "metadata": {
        "id": "KqOlx3HbtXMM"
      },
      "source": [
        "# product6\n",
        "for i in range(20):\n",
        "  temp = product6.copy()\n",
        "  temp['시'] = [(i+6)%24, (i+6)%24, (i+7)%24]\n",
        "  temp['시간대'] = [str((i + 6)%24) + '시'] * 3\n",
        "  product6_total = product6_total.append(temp)\n",
        "  product6_total = product6_total.reset_index(drop=True)"
      ],
      "execution_count": null,
      "outputs": []
    },
    {
      "cell_type": "code",
      "metadata": {
        "id": "4xApopPItWzH"
      },
      "source": [
        "# product7\n",
        "for i in range(20):\n",
        "  temp = product7.copy()\n",
        "  temp['시'] = [(i+6)%24, (i+6)%24, (i+7)%24]\n",
        "  temp['시간대'] = [str((i + 6)%24) + '시'] * 3\n",
        "  product7_total = product7_total.append(temp)\n",
        "  product7_total = product7_total.reset_index(drop=True)"
      ],
      "execution_count": null,
      "outputs": []
    },
    {
      "cell_type": "code",
      "metadata": {
        "id": "2tpBX0jttWT3"
      },
      "source": [
        "# product8\n",
        "for i in range(20):\n",
        "  temp = product8.copy()\n",
        "  temp['시'] = [(i+6)%24, (i+6)%24, (i+6)%24, (i+6)%24, (i+7)%24, (i+7)%24]\n",
        "  temp['시간대'] = [str((i + 6)%24) + '시'] * 6\n",
        "  product8_total = product8_total.append(temp)\n",
        "  product8_total = product8_total.reset_index(drop=True)"
      ],
      "execution_count": null,
      "outputs": []
    },
    {
      "cell_type": "code",
      "metadata": {
        "id": "YiDqMo85tVza"
      },
      "source": [
        "# product9\n",
        "for i in range(20):\n",
        "  temp = product9.copy()\n",
        "  temp['시'] = [(i+6)%24]\n",
        "  temp['시간대'] = [str((i + 6)%24) + '시']\n",
        "  product9_total = product9_total.append(temp)\n",
        "  product9_total = product9_total.reset_index(drop=True)"
      ],
      "execution_count": null,
      "outputs": []
    },
    {
      "cell_type": "code",
      "metadata": {
        "id": "kBy8mMkgtVhs"
      },
      "source": [
        "# product10\n",
        "for i in range(20):\n",
        "  temp = product10.copy()\n",
        "  temp['시'] = [(i+6)%24, (i+6)%24, (i+7)%24]\n",
        "  temp['시간대'] = [str((i + 6)%24) + '시'] * 3\n",
        "  product10_total = product10_total.append(temp)\n",
        "  product10_total = product10_total.reset_index(drop=True)"
      ],
      "execution_count": null,
      "outputs": []
    },
    {
      "cell_type": "code",
      "metadata": {
        "id": "25W3TsXyujgX"
      },
      "source": [
        "# product11\n",
        "for i in range(20):\n",
        "  temp = product11.copy()\n",
        "  temp['시'] = [(i+6)%24, (i+6)%24, (i+7)%24]\n",
        "  temp['시간대'] = [str((i + 6)%24) + '시'] * 3\n",
        "  product11_total = product11_total.append(temp)\n",
        "  product11_total = product11_total.reset_index(drop=True)"
      ],
      "execution_count": null,
      "outputs": []
    },
    {
      "cell_type": "code",
      "metadata": {
        "id": "lThBFB0iujjt"
      },
      "source": [
        "# product12\n",
        "for i in range(20):\n",
        "  temp = product12.copy()\n",
        "  temp['시'] = [(i+6)%24, (i+6)%24, (i+6)%24, (i+6)%24, (i+7)%24, (i+7)%24]\n",
        "  temp['시간대'] = [str((i + 6)%24) + '시'] * 6\n",
        "  product12_total = product12_total.append(temp)\n",
        "  product12_total = product12_total.reset_index(drop=True)"
      ],
      "execution_count": null,
      "outputs": []
    },
    {
      "cell_type": "code",
      "metadata": {
        "id": "YGAzvIOOuxmD"
      },
      "source": [
        "# product13\n",
        "for i in range(20):\n",
        "  temp = product13.copy()\n",
        "  temp['시'] = [(i+6)%24, (i+6)%24, (i+7)%24]\n",
        "  temp['시간대'] = [str((i + 6)%24) + '시'] * 3\n",
        "  product13_total = product13_total.append(temp)\n",
        "  product13_total = product13_total.reset_index(drop=True)"
      ],
      "execution_count": null,
      "outputs": []
    },
    {
      "cell_type": "code",
      "metadata": {
        "id": "8r-d0IyNuxpt"
      },
      "source": [
        "# product14\n",
        "for i in range(20):\n",
        "  temp = product14.copy()\n",
        "  temp['시'] = [(i+6)%24, (i+6)%24, (i+7)%24]\n",
        "  temp['시간대'] = [str((i + 6)%24) + '시'] * 3\n",
        "  product14_total = product14_total.append(temp)\n",
        "  product14_total = product14_total.reset_index(drop=True)"
      ],
      "execution_count": null,
      "outputs": []
    },
    {
      "cell_type": "code",
      "metadata": {
        "id": "s3VN9gAwuxee"
      },
      "source": [
        "# product15\n",
        "for i in range(20):\n",
        "  temp = product15.copy()\n",
        "  temp['시'] = [(i+6)%24, (i+6)%24, (i+7)%24]\n",
        "  temp['시간대'] = [str((i + 6)%24) + '시'] * 3\n",
        "  product15_total = product15_total.append(temp)\n",
        "  product15_total = product15_total.reset_index(drop=True)"
      ],
      "execution_count": null,
      "outputs": []
    },
    {
      "cell_type": "code",
      "metadata": {
        "id": "cFdt1hkPujd3"
      },
      "source": [
        "# product16\n",
        "for i in range(20):\n",
        "  temp = product16.copy()\n",
        "  temp['시'] = [(i+6)%24, (i+6)%24, (i+6)%24, (i+6)%24, (i+6)%24, (i+6)%24, (i+7)%24, (i+7)%24, (i+7)%24]\n",
        "  temp['시간대'] = [str((i + 6)%24) + '시'] * 9\n",
        "  product16_total = product16_total.append(temp)\n",
        "  product16_total = product16_total.reset_index(drop=True)"
      ],
      "execution_count": null,
      "outputs": []
    },
    {
      "cell_type": "code",
      "metadata": {
        "id": "28A8yEWsFqSm"
      },
      "source": [
        "# product17\n",
        "for i in range(20):\n",
        "  temp = product17.copy()\n",
        "  temp['시'] = [(i+6)%24, (i+6)%24, (i+6)%24, (i+6)%24, (i+6)%24, (i+6)%24, (i+7)%24, (i+7)%24, (i+7)%24]\n",
        "  temp['시간대'] = [str((i + 6)%24) + '시'] * 9\n",
        "  product17_total = product17_total.append(temp)\n",
        "  product17_total = product17_total.reset_index(drop=True)"
      ],
      "execution_count": null,
      "outputs": []
    },
    {
      "cell_type": "code",
      "metadata": {
        "id": "Idmg4d03FqQt"
      },
      "source": [
        "# product18\n",
        "for i in range(20):\n",
        "  temp = product18.copy()\n",
        "  temp['시'] = [(i+6)%24, (i+6)%24, (i+6)%24, (i+6)%24, (i+7)%24, (i+7)%24]\n",
        "  temp['시간대'] = [str((i + 6)%24) + '시'] * 6\n",
        "  product18_total = product18_total.append(temp)\n",
        "  product18_total = product18_total.reset_index(drop=True)"
      ],
      "execution_count": null,
      "outputs": []
    },
    {
      "cell_type": "code",
      "metadata": {
        "id": "O-ieW7KNGSVF"
      },
      "source": [
        "# product19\n",
        "for i in range(20):\n",
        "  temp = product19.copy()\n",
        "  temp['시'] = [(i+6)%24, (i+6)%24, (i+7)%24]\n",
        "  temp['시간대'] = [str((i + 6)%24) + '시'] * 3\n",
        "  product19_total = product19_total.append(temp)\n",
        "  product19_total = product19_total.reset_index(drop=True)"
      ],
      "execution_count": null,
      "outputs": []
    },
    {
      "cell_type": "code",
      "metadata": {
        "id": "IaCu7tioGc_T"
      },
      "source": [
        "# product20\n",
        "for i in range(20):\n",
        "  temp = product20.copy()\n",
        "  temp['시'] = [(i+6)%24, (i+6)%24, (i+7)%24]\n",
        "  temp['시간대'] = [str((i + 6)%24) + '시'] * 3\n",
        "  product20_total = product20_total.append(temp)\n",
        "  product20_total = product20_total.reset_index(drop=True)"
      ],
      "execution_count": null,
      "outputs": []
    },
    {
      "cell_type": "code",
      "metadata": {
        "id": "xTm3brv7Iq2r"
      },
      "source": [
        "augmented_test = pd.concat([product1_total, product2_total, product3_total, product4_total, product5_total,\n",
        "                            product6_total, product7_total, product8_total, product9_total, product10_total,\n",
        "                            product11_total, product12_total, product13_total, product14_total, product15_total,\n",
        "                            product16_total, product17_total, product18_total, product19_total, product20_total], axis=0)"
      ],
      "execution_count": null,
      "outputs": []
    },
    {
      "cell_type": "code",
      "metadata": {
        "id": "CNT_z69NWc0-"
      },
      "source": [
        "augmented_test_fit = augmented_test.iloc[:, 8:-1]"
      ],
      "execution_count": null,
      "outputs": []
    },
    {
      "cell_type": "code",
      "metadata": {
        "id": "lbNgIk4Xc4N9"
      },
      "source": [
        "scaler = RobustScaler()\n",
        "scaler.fit(augmented_test_fit)\n",
        "augmented_test_final = pd.DataFrame(scaler.transform(augmented_test_fit), columns=augmented_test_fit.columns)"
      ],
      "execution_count": null,
      "outputs": []
    },
    {
      "cell_type": "markdown",
      "metadata": {
        "id": "P5o7Aa7KsYK3"
      },
      "source": [
        "## 2. 모델에 train으로 학습된 weight를 넣고 합쳐진 test 데이터 prediction"
      ]
    },
    {
      "cell_type": "code",
      "metadata": {
        "id": "ScJL69ZmsYK3"
      },
      "source": [
        "def build_model(input_layer, start_neurons):\n",
        "    \n",
        "    conv1 = Conv1D(start_neurons * 1, 3, activation=\"relu\", padding=\"same\", input_shape=(augmented_test_final.shape[1], 1))(input_layer)\n",
        "    conv1 = Conv1D(start_neurons * 1, 3, activation=\"relu\", padding=\"same\")(conv1)\n",
        "    pool1 = BatchNormalization()(conv1)\n",
        "    pool1 = AveragePooling1D(2)(pool1)\n",
        "    pool1 = Dropout(0.1)(pool1)\n",
        "\n",
        "    conv2 = Conv1D(start_neurons * 2, 3, activation=\"relu\", padding=\"same\")(pool1)\n",
        "    conv2 = Conv1D(start_neurons * 2, 3, activation=\"relu\", padding=\"same\")(conv2)\n",
        "    pool2 = BatchNormalization()(conv2)\n",
        "    pool2 = AveragePooling1D(2)(pool2)\n",
        "    pool2 = Dropout(0.1)(pool2)\n",
        "\n",
        "    convm = Conv1D(start_neurons * 4, 3, activation=\"relu\", padding=\"same\")(pool2)\n",
        "\n",
        "    deconv2 = Conv1DTranspose(start_neurons * 1, 3, strides=2, padding=\"same\")(convm)\n",
        "    uconv2 = concatenate([deconv2, conv2])\n",
        "    uconv2 = Dropout(0.1)(uconv2)\n",
        "    uconv2 = Conv1D(start_neurons * 1, 3, activation=\"relu\", padding=\"same\")(uconv2)\n",
        "    uconv2 = Conv1D(start_neurons * 1, 3, activation=\"relu\", padding=\"same\")(uconv2)\n",
        "    uconv2 = BatchNormalization()(uconv2)\n",
        "    uconv2 = Dropout(0.1)(uconv2)\n",
        "\n",
        "    deconv1 = Conv1DTranspose(start_neurons * 1, 3, strides=2, padding=\"same\")(uconv2)\n",
        "    uconv1 = concatenate([deconv1, conv1])\n",
        "    uconv1 = Dropout(0.1)(uconv1)\n",
        "    uconv1 = Conv1D(start_neurons * 1, 3, activation=\"relu\", padding=\"same\")(uconv1)\n",
        "    uconv1 = Conv1D(start_neurons * 1, 3, activation=\"relu\", padding=\"same\")(uconv1)\n",
        "    uconv1 = BatchNormalization()(uconv1)\n",
        "    uconv1 = Dropout(0.1)(uconv1)\n",
        "\n",
        "    flat = Flatten()(uconv1)\n",
        "    dense1 = Dense(256, activation='relu')(flat)\n",
        "    dense2 = Dense(128, activation='relu')(dense1)\n",
        "    output_layer = Dense(1)(dense2)\n",
        "    \n",
        "    return output_layer"
      ],
      "execution_count": null,
      "outputs": []
    },
    {
      "cell_type": "code",
      "metadata": {
        "id": "AJUHhUD6sYK6"
      },
      "source": [
        "# model 생성\n",
        "input_layer = Input((augmented_test_final.shape[1], 1))\n",
        "output_layer = build_model(input_layer, 512)\n",
        "model = Model(input_layer, output_layer)\n",
        "\n",
        "# model 가중치 불러오기\n",
        "model.load_weights('/content/drive/Shared drives/빅콘테스트2020/weights/mspma/functional_1.50-34.5923.hdf5')"
      ],
      "execution_count": null,
      "outputs": []
    },
    {
      "cell_type": "code",
      "metadata": {
        "id": "54cP40qDKxQb"
      },
      "source": [
        "# 수량 예측\n",
        "y_pred = model.predict(augmented_test_final.values)"
      ],
      "execution_count": null,
      "outputs": []
    },
    {
      "cell_type": "code",
      "metadata": {
        "id": "dX4ce4peN3Rd"
      },
      "source": [
        "y_pred = y_pred.reshape(-1)"
      ],
      "execution_count": null,
      "outputs": []
    },
    {
      "cell_type": "markdown",
      "metadata": {
        "id": "w0H19hS6OZS9"
      },
      "source": [
        "## 3. 테스트 데이터의 판매단가와 예측된 수량을 곱하여 시간대별 취급액 계산"
      ]
    },
    {
      "cell_type": "code",
      "metadata": {
        "id": "MageKpRJS0nt"
      },
      "source": [
        "augmented_test['취급액'] = y_pred * augmented_test['판매단가']"
      ],
      "execution_count": null,
      "outputs": []
    },
    {
      "cell_type": "code",
      "metadata": {
        "id": "nvxO6uKxZ62f"
      },
      "source": [
        "# 2020년 6월 1일 각 상품의 시간대별 예상 취급액\n",
        "mat = pd.pivot_table(augmented_test, index='마더코드', values='취급액', aggfunc='sum', columns='시간대')"
      ],
      "execution_count": null,
      "outputs": []
    },
    {
      "cell_type": "code",
      "metadata": {
        "id": "41HRihFehydO"
      },
      "source": [
        "sorted_cols = ['6시', '7시', '8시', '9시', '10시', '11시', '12시', '13시', '14시', '15시',\n",
        "               '16시', '17시', '18시', '19시', '20시', '21시', '22시', '23시', '0시', '1시']"
      ],
      "execution_count": null,
      "outputs": []
    },
    {
      "cell_type": "code",
      "metadata": {
        "id": "_fj0y4KhiKfM"
      },
      "source": [
        "mat = mat[sorted_cols]"
      ],
      "execution_count": null,
      "outputs": []
    },
    {
      "cell_type": "code",
      "metadata": {
        "id": "zb18kDlrhvwW",
        "outputId": "3f856a1f-2337-4597-8877-b3e26bf94113",
        "colab": {
          "base_uri": "https://localhost:8080/",
          "height": 720
        }
      },
      "source": [
        "mat"
      ],
      "execution_count": null,
      "outputs": [
        {
          "output_type": "execute_result",
          "data": {
            "text/html": [
              "<div>\n",
              "<style scoped>\n",
              "    .dataframe tbody tr th:only-of-type {\n",
              "        vertical-align: middle;\n",
              "    }\n",
              "\n",
              "    .dataframe tbody tr th {\n",
              "        vertical-align: top;\n",
              "    }\n",
              "\n",
              "    .dataframe thead th {\n",
              "        text-align: right;\n",
              "    }\n",
              "</style>\n",
              "<table border=\"1\" class=\"dataframe\">\n",
              "  <thead>\n",
              "    <tr style=\"text-align: right;\">\n",
              "      <th>시간대</th>\n",
              "      <th>6시</th>\n",
              "      <th>7시</th>\n",
              "      <th>8시</th>\n",
              "      <th>9시</th>\n",
              "      <th>10시</th>\n",
              "      <th>11시</th>\n",
              "      <th>12시</th>\n",
              "      <th>13시</th>\n",
              "      <th>14시</th>\n",
              "      <th>15시</th>\n",
              "      <th>16시</th>\n",
              "      <th>17시</th>\n",
              "      <th>18시</th>\n",
              "      <th>19시</th>\n",
              "      <th>20시</th>\n",
              "      <th>21시</th>\n",
              "      <th>22시</th>\n",
              "      <th>23시</th>\n",
              "      <th>0시</th>\n",
              "      <th>1시</th>\n",
              "    </tr>\n",
              "    <tr>\n",
              "      <th>마더코드</th>\n",
              "      <th></th>\n",
              "      <th></th>\n",
              "      <th></th>\n",
              "      <th></th>\n",
              "      <th></th>\n",
              "      <th></th>\n",
              "      <th></th>\n",
              "      <th></th>\n",
              "      <th></th>\n",
              "      <th></th>\n",
              "      <th></th>\n",
              "      <th></th>\n",
              "      <th></th>\n",
              "      <th></th>\n",
              "      <th></th>\n",
              "      <th></th>\n",
              "      <th></th>\n",
              "      <th></th>\n",
              "      <th></th>\n",
              "      <th></th>\n",
              "    </tr>\n",
              "  </thead>\n",
              "  <tbody>\n",
              "    <tr>\n",
              "      <th>100012</th>\n",
              "      <td>27321334.80</td>\n",
              "      <td>27282182.24</td>\n",
              "      <td>27282718.33</td>\n",
              "      <td>27318313.61</td>\n",
              "      <td>27394865.68</td>\n",
              "      <td>27534267.43</td>\n",
              "      <td>27666796.14</td>\n",
              "      <td>27659632.90</td>\n",
              "      <td>27660504.74</td>\n",
              "      <td>27612228.06</td>\n",
              "      <td>27214877.85</td>\n",
              "      <td>26453562.82</td>\n",
              "      <td>25700941.91</td>\n",
              "      <td>25080015.93</td>\n",
              "      <td>24713626.54</td>\n",
              "      <td>24517982.92</td>\n",
              "      <td>24401760.30</td>\n",
              "      <td>26192617.50</td>\n",
              "      <td>28714187.75</td>\n",
              "      <td>28444106.45</td>\n",
              "    </tr>\n",
              "    <tr>\n",
              "      <th>100080</th>\n",
              "      <td>34999958.75</td>\n",
              "      <td>35173545.21</td>\n",
              "      <td>35571510.34</td>\n",
              "      <td>36018415.59</td>\n",
              "      <td>36374028.86</td>\n",
              "      <td>37047750.22</td>\n",
              "      <td>38086474.10</td>\n",
              "      <td>39056661.54</td>\n",
              "      <td>39321007.22</td>\n",
              "      <td>39266002.46</td>\n",
              "      <td>39498524.99</td>\n",
              "      <td>39645849.90</td>\n",
              "      <td>39828364.49</td>\n",
              "      <td>39702504.76</td>\n",
              "      <td>39763688.48</td>\n",
              "      <td>39842632.44</td>\n",
              "      <td>39848795.40</td>\n",
              "      <td>38947202.32</td>\n",
              "      <td>35995858.22</td>\n",
              "      <td>35757280.20</td>\n",
              "    </tr>\n",
              "    <tr>\n",
              "      <th>100148</th>\n",
              "      <td>182913738.55</td>\n",
              "      <td>199100363.82</td>\n",
              "      <td>215778587.64</td>\n",
              "      <td>231154806.11</td>\n",
              "      <td>242904540.12</td>\n",
              "      <td>258973571.75</td>\n",
              "      <td>277227728.38</td>\n",
              "      <td>295778276.77</td>\n",
              "      <td>310039455.16</td>\n",
              "      <td>307498123.01</td>\n",
              "      <td>285319254.87</td>\n",
              "      <td>256124939.71</td>\n",
              "      <td>222862102.19</td>\n",
              "      <td>197398330.25</td>\n",
              "      <td>179574902.35</td>\n",
              "      <td>166315494.34</td>\n",
              "      <td>158619217.96</td>\n",
              "      <td>140001462.57</td>\n",
              "      <td>131123953.70</td>\n",
              "      <td>137015197.50</td>\n",
              "    </tr>\n",
              "    <tr>\n",
              "      <th>100150</th>\n",
              "      <td>130787357.73</td>\n",
              "      <td>130873112.13</td>\n",
              "      <td>131208496.17</td>\n",
              "      <td>131970457.32</td>\n",
              "      <td>133070167.14</td>\n",
              "      <td>133812846.95</td>\n",
              "      <td>133745569.14</td>\n",
              "      <td>133078878.17</td>\n",
              "      <td>131968664.77</td>\n",
              "      <td>130271027.30</td>\n",
              "      <td>129123359.16</td>\n",
              "      <td>128665822.43</td>\n",
              "      <td>128777620.29</td>\n",
              "      <td>129095921.71</td>\n",
              "      <td>129262844.27</td>\n",
              "      <td>129568185.95</td>\n",
              "      <td>129966989.99</td>\n",
              "      <td>131273754.49</td>\n",
              "      <td>135833076.52</td>\n",
              "      <td>134824557.86</td>\n",
              "    </tr>\n",
              "    <tr>\n",
              "      <th>100205</th>\n",
              "      <td>34584429.15</td>\n",
              "      <td>34468000.64</td>\n",
              "      <td>34398470.36</td>\n",
              "      <td>34227221.60</td>\n",
              "      <td>34053240.23</td>\n",
              "      <td>34019685.69</td>\n",
              "      <td>34160298.38</td>\n",
              "      <td>34840792.02</td>\n",
              "      <td>36401991.81</td>\n",
              "      <td>37815185.25</td>\n",
              "      <td>37936293.12</td>\n",
              "      <td>36885777.35</td>\n",
              "      <td>35100637.07</td>\n",
              "      <td>33589226.79</td>\n",
              "      <td>32303763.62</td>\n",
              "      <td>31462260.08</td>\n",
              "      <td>31105901.23</td>\n",
              "      <td>32856624.93</td>\n",
              "      <td>35770045.49</td>\n",
              "      <td>35610876.65</td>\n",
              "    </tr>\n",
              "    <tr>\n",
              "      <th>100320</th>\n",
              "      <td>14866603.02</td>\n",
              "      <td>15383079.77</td>\n",
              "      <td>15921453.61</td>\n",
              "      <td>16501398.79</td>\n",
              "      <td>17089393.71</td>\n",
              "      <td>17603744.47</td>\n",
              "      <td>18152769.55</td>\n",
              "      <td>18758710.28</td>\n",
              "      <td>19263781.94</td>\n",
              "      <td>19401893.28</td>\n",
              "      <td>19092012.50</td>\n",
              "      <td>18657038.39</td>\n",
              "      <td>18246224.26</td>\n",
              "      <td>17906579.95</td>\n",
              "      <td>17661598.24</td>\n",
              "      <td>17538186.05</td>\n",
              "      <td>17484783.72</td>\n",
              "      <td>16538977.07</td>\n",
              "      <td>13717086.79</td>\n",
              "      <td>13769879.43</td>\n",
              "    </tr>\n",
              "    <tr>\n",
              "      <th>100348</th>\n",
              "      <td>19761797.96</td>\n",
              "      <td>19895811.14</td>\n",
              "      <td>20202963.16</td>\n",
              "      <td>20397812.28</td>\n",
              "      <td>20501616.80</td>\n",
              "      <td>20594797.42</td>\n",
              "      <td>20710030.15</td>\n",
              "      <td>20780811.80</td>\n",
              "      <td>20553365.27</td>\n",
              "      <td>20203496.94</td>\n",
              "      <td>19859824.39</td>\n",
              "      <td>19437730.74</td>\n",
              "      <td>19014342.87</td>\n",
              "      <td>18685098.07</td>\n",
              "      <td>18523894.26</td>\n",
              "      <td>18507943.10</td>\n",
              "      <td>18512252.39</td>\n",
              "      <td>20278245.12</td>\n",
              "      <td>20438540.64</td>\n",
              "      <td>20189520.03</td>\n",
              "    </tr>\n",
              "    <tr>\n",
              "      <th>100362</th>\n",
              "      <td>14891682.31</td>\n",
              "      <td>14906170.23</td>\n",
              "      <td>15039680.22</td>\n",
              "      <td>15270231.25</td>\n",
              "      <td>15526147.77</td>\n",
              "      <td>15711432.61</td>\n",
              "      <td>15793174.15</td>\n",
              "      <td>15685471.06</td>\n",
              "      <td>15372760.54</td>\n",
              "      <td>14849059.34</td>\n",
              "      <td>14392707.96</td>\n",
              "      <td>13963497.72</td>\n",
              "      <td>13694459.18</td>\n",
              "      <td>13403731.21</td>\n",
              "      <td>13091146.10</td>\n",
              "      <td>12778736.03</td>\n",
              "      <td>12509047.87</td>\n",
              "      <td>13137739.53</td>\n",
              "      <td>14471015.73</td>\n",
              "      <td>14579231.14</td>\n",
              "    </tr>\n",
              "    <tr>\n",
              "      <th>100381</th>\n",
              "      <td>22638963.32</td>\n",
              "      <td>22906934.56</td>\n",
              "      <td>23166403.66</td>\n",
              "      <td>23366965.03</td>\n",
              "      <td>23541991.65</td>\n",
              "      <td>23644174.83</td>\n",
              "      <td>23621117.60</td>\n",
              "      <td>23103466.78</td>\n",
              "      <td>22417818.20</td>\n",
              "      <td>21826152.70</td>\n",
              "      <td>21366513.39</td>\n",
              "      <td>20723542.49</td>\n",
              "      <td>20272315.28</td>\n",
              "      <td>19892538.80</td>\n",
              "      <td>19720599.21</td>\n",
              "      <td>19603925.30</td>\n",
              "      <td>19546826.67</td>\n",
              "      <td>20846984.61</td>\n",
              "      <td>22693838.29</td>\n",
              "      <td>22570095.47</td>\n",
              "    </tr>\n",
              "    <tr>\n",
              "      <th>100383</th>\n",
              "      <td>33239689.39</td>\n",
              "      <td>33545930.11</td>\n",
              "      <td>33942871.82</td>\n",
              "      <td>34516358.39</td>\n",
              "      <td>35175417.83</td>\n",
              "      <td>35733863.61</td>\n",
              "      <td>36161861.88</td>\n",
              "      <td>36685439.46</td>\n",
              "      <td>36716889.07</td>\n",
              "      <td>36145726.81</td>\n",
              "      <td>35298459.46</td>\n",
              "      <td>34438351.99</td>\n",
              "      <td>33949348.11</td>\n",
              "      <td>33448936.01</td>\n",
              "      <td>32882233.69</td>\n",
              "      <td>32369223.72</td>\n",
              "      <td>32009489.57</td>\n",
              "      <td>31726461.09</td>\n",
              "      <td>31898219.79</td>\n",
              "      <td>32047001.90</td>\n",
              "    </tr>\n",
              "    <tr>\n",
              "      <th>100416</th>\n",
              "      <td>10278831.87</td>\n",
              "      <td>10323658.03</td>\n",
              "      <td>10462755.06</td>\n",
              "      <td>10673536.91</td>\n",
              "      <td>10984983.36</td>\n",
              "      <td>11458542.29</td>\n",
              "      <td>12234452.87</td>\n",
              "      <td>13184609.83</td>\n",
              "      <td>13900486.24</td>\n",
              "      <td>14156140.21</td>\n",
              "      <td>14225871.46</td>\n",
              "      <td>14067633.55</td>\n",
              "      <td>13947058.36</td>\n",
              "      <td>13848373.81</td>\n",
              "      <td>13789335.83</td>\n",
              "      <td>13769427.84</td>\n",
              "      <td>13764019.34</td>\n",
              "      <td>11928148.71</td>\n",
              "      <td>10770471.39</td>\n",
              "      <td>10611649.63</td>\n",
              "    </tr>\n",
              "    <tr>\n",
              "      <th>100445</th>\n",
              "      <td>22501765.77</td>\n",
              "      <td>22880866.29</td>\n",
              "      <td>23303353.53</td>\n",
              "      <td>23827371.55</td>\n",
              "      <td>24368389.94</td>\n",
              "      <td>24938409.95</td>\n",
              "      <td>25365959.23</td>\n",
              "      <td>25437897.48</td>\n",
              "      <td>25129325.18</td>\n",
              "      <td>24640378.75</td>\n",
              "      <td>24116405.00</td>\n",
              "      <td>23647480.59</td>\n",
              "      <td>23300266.83</td>\n",
              "      <td>22876933.24</td>\n",
              "      <td>22576820.60</td>\n",
              "      <td>22387285.54</td>\n",
              "      <td>22236990.30</td>\n",
              "      <td>21865197.51</td>\n",
              "      <td>21823346.68</td>\n",
              "      <td>21764304.03</td>\n",
              "    </tr>\n",
              "    <tr>\n",
              "      <th>100501</th>\n",
              "      <td>35711982.73</td>\n",
              "      <td>36373627.65</td>\n",
              "      <td>37047869.49</td>\n",
              "      <td>37726016.14</td>\n",
              "      <td>38380212.64</td>\n",
              "      <td>39252629.64</td>\n",
              "      <td>40584764.43</td>\n",
              "      <td>42276858.19</td>\n",
              "      <td>44099888.01</td>\n",
              "      <td>45571443.32</td>\n",
              "      <td>45961118.83</td>\n",
              "      <td>45569527.68</td>\n",
              "      <td>44820276.75</td>\n",
              "      <td>44086875.80</td>\n",
              "      <td>43672334.48</td>\n",
              "      <td>43383046.47</td>\n",
              "      <td>43303172.95</td>\n",
              "      <td>41468744.48</td>\n",
              "      <td>33502250.71</td>\n",
              "      <td>33802290.66</td>\n",
              "    </tr>\n",
              "    <tr>\n",
              "      <th>100526</th>\n",
              "      <td>4022165.35</td>\n",
              "      <td>4084473.48</td>\n",
              "      <td>4135140.66</td>\n",
              "      <td>4163820.02</td>\n",
              "      <td>4175882.46</td>\n",
              "      <td>4231518.14</td>\n",
              "      <td>4300305.56</td>\n",
              "      <td>4367255.60</td>\n",
              "      <td>4456939.52</td>\n",
              "      <td>4695588.10</td>\n",
              "      <td>4873427.27</td>\n",
              "      <td>4841594.83</td>\n",
              "      <td>4685564.68</td>\n",
              "      <td>4516467.50</td>\n",
              "      <td>4326275.19</td>\n",
              "      <td>4174516.70</td>\n",
              "      <td>4122854.81</td>\n",
              "      <td>3714509.72</td>\n",
              "      <td>3575218.20</td>\n",
              "      <td>3639289.81</td>\n",
              "    </tr>\n",
              "    <tr>\n",
              "      <th>100537</th>\n",
              "      <td>22598282.74</td>\n",
              "      <td>22900895.29</td>\n",
              "      <td>23299563.48</td>\n",
              "      <td>23797409.37</td>\n",
              "      <td>24350008.18</td>\n",
              "      <td>24731411.29</td>\n",
              "      <td>25062668.47</td>\n",
              "      <td>25277214.99</td>\n",
              "      <td>25187420.51</td>\n",
              "      <td>24702162.69</td>\n",
              "      <td>24080538.28</td>\n",
              "      <td>23501096.35</td>\n",
              "      <td>23181059.82</td>\n",
              "      <td>22830986.88</td>\n",
              "      <td>22390110.63</td>\n",
              "      <td>21997657.33</td>\n",
              "      <td>21732396.85</td>\n",
              "      <td>21196133.45</td>\n",
              "      <td>21783015.23</td>\n",
              "      <td>21839356.57</td>\n",
              "    </tr>\n",
              "    <tr>\n",
              "      <th>100554</th>\n",
              "      <td>0.00</td>\n",
              "      <td>0.00</td>\n",
              "      <td>0.00</td>\n",
              "      <td>0.00</td>\n",
              "      <td>0.00</td>\n",
              "      <td>0.00</td>\n",
              "      <td>0.00</td>\n",
              "      <td>0.00</td>\n",
              "      <td>0.00</td>\n",
              "      <td>0.00</td>\n",
              "      <td>0.00</td>\n",
              "      <td>0.00</td>\n",
              "      <td>0.00</td>\n",
              "      <td>0.00</td>\n",
              "      <td>0.00</td>\n",
              "      <td>0.00</td>\n",
              "      <td>0.00</td>\n",
              "      <td>0.00</td>\n",
              "      <td>0.00</td>\n",
              "      <td>0.00</td>\n",
              "    </tr>\n",
              "    <tr>\n",
              "      <th>100555</th>\n",
              "      <td>0.00</td>\n",
              "      <td>0.00</td>\n",
              "      <td>0.00</td>\n",
              "      <td>0.00</td>\n",
              "      <td>0.00</td>\n",
              "      <td>0.00</td>\n",
              "      <td>0.00</td>\n",
              "      <td>0.00</td>\n",
              "      <td>0.00</td>\n",
              "      <td>0.00</td>\n",
              "      <td>0.00</td>\n",
              "      <td>0.00</td>\n",
              "      <td>0.00</td>\n",
              "      <td>0.00</td>\n",
              "      <td>0.00</td>\n",
              "      <td>0.00</td>\n",
              "      <td>0.00</td>\n",
              "      <td>0.00</td>\n",
              "      <td>0.00</td>\n",
              "      <td>0.00</td>\n",
              "    </tr>\n",
              "    <tr>\n",
              "      <th>100570</th>\n",
              "      <td>0.00</td>\n",
              "      <td>0.00</td>\n",
              "      <td>0.00</td>\n",
              "      <td>0.00</td>\n",
              "      <td>0.00</td>\n",
              "      <td>0.00</td>\n",
              "      <td>0.00</td>\n",
              "      <td>0.00</td>\n",
              "      <td>0.00</td>\n",
              "      <td>0.00</td>\n",
              "      <td>0.00</td>\n",
              "      <td>0.00</td>\n",
              "      <td>0.00</td>\n",
              "      <td>0.00</td>\n",
              "      <td>0.00</td>\n",
              "      <td>0.00</td>\n",
              "      <td>0.00</td>\n",
              "      <td>0.00</td>\n",
              "      <td>0.00</td>\n",
              "      <td>0.00</td>\n",
              "    </tr>\n",
              "    <tr>\n",
              "      <th>100638</th>\n",
              "      <td>25582974.51</td>\n",
              "      <td>25512329.75</td>\n",
              "      <td>25495130.10</td>\n",
              "      <td>25626233.72</td>\n",
              "      <td>26003983.19</td>\n",
              "      <td>26481037.82</td>\n",
              "      <td>26948837.52</td>\n",
              "      <td>26852917.82</td>\n",
              "      <td>26545884.22</td>\n",
              "      <td>26157032.84</td>\n",
              "      <td>25506958.42</td>\n",
              "      <td>24684381.07</td>\n",
              "      <td>23840958.31</td>\n",
              "      <td>23304589.11</td>\n",
              "      <td>22907704.85</td>\n",
              "      <td>22759510.52</td>\n",
              "      <td>22683741.83</td>\n",
              "      <td>23297961.22</td>\n",
              "      <td>26450167.01</td>\n",
              "      <td>26255854.00</td>\n",
              "    </tr>\n",
              "    <tr>\n",
              "      <th>100650</th>\n",
              "      <td>7507711.57</td>\n",
              "      <td>7449256.44</td>\n",
              "      <td>7431465.22</td>\n",
              "      <td>7454622.71</td>\n",
              "      <td>7447748.92</td>\n",
              "      <td>7473008.86</td>\n",
              "      <td>7594248.13</td>\n",
              "      <td>7813700.56</td>\n",
              "      <td>7939450.64</td>\n",
              "      <td>7833265.52</td>\n",
              "      <td>7762609.80</td>\n",
              "      <td>7660322.88</td>\n",
              "      <td>7639665.34</td>\n",
              "      <td>7595212.39</td>\n",
              "      <td>7572925.40</td>\n",
              "      <td>7569896.66</td>\n",
              "      <td>7573615.46</td>\n",
              "      <td>7530049.54</td>\n",
              "      <td>8085260.25</td>\n",
              "      <td>7968600.93</td>\n",
              "    </tr>\n",
              "  </tbody>\n",
              "</table>\n",
              "</div>"
            ],
            "text/plain": [
              "시간대              6시           7시  ...           0시           1시\n",
              "마더코드                              ...                          \n",
              "100012  27321334.80  27282182.24  ...  28714187.75  28444106.45\n",
              "100080  34999958.75  35173545.21  ...  35995858.22  35757280.20\n",
              "100148 182913738.55 199100363.82  ... 131123953.70 137015197.50\n",
              "100150 130787357.73 130873112.13  ... 135833076.52 134824557.86\n",
              "100205  34584429.15  34468000.64  ...  35770045.49  35610876.65\n",
              "100320  14866603.02  15383079.77  ...  13717086.79  13769879.43\n",
              "100348  19761797.96  19895811.14  ...  20438540.64  20189520.03\n",
              "100362  14891682.31  14906170.23  ...  14471015.73  14579231.14\n",
              "100381  22638963.32  22906934.56  ...  22693838.29  22570095.47\n",
              "100383  33239689.39  33545930.11  ...  31898219.79  32047001.90\n",
              "100416  10278831.87  10323658.03  ...  10770471.39  10611649.63\n",
              "100445  22501765.77  22880866.29  ...  21823346.68  21764304.03\n",
              "100501  35711982.73  36373627.65  ...  33502250.71  33802290.66\n",
              "100526   4022165.35   4084473.48  ...   3575218.20   3639289.81\n",
              "100537  22598282.74  22900895.29  ...  21783015.23  21839356.57\n",
              "100554         0.00         0.00  ...         0.00         0.00\n",
              "100555         0.00         0.00  ...         0.00         0.00\n",
              "100570         0.00         0.00  ...         0.00         0.00\n",
              "100638  25582974.51  25512329.75  ...  26450167.01  26255854.00\n",
              "100650   7507711.57   7449256.44  ...   8085260.25   7968600.93\n",
              "\n",
              "[20 rows x 20 columns]"
            ]
          },
          "metadata": {
            "tags": []
          },
          "execution_count": 45
        }
      ]
    },
    {
      "cell_type": "markdown",
      "metadata": {
        "id": "_IPugFTDfsaO"
      },
      "source": [
        "## 4. MSPMA(Maximum Sales Probability Matching Algorithm) 적용하여 각 상품별 최적 시간대 찾기"
      ]
    },
    {
      "cell_type": "code",
      "metadata": {
        "id": "UX96KpebgXcv"
      },
      "source": [
        "# maxtrix 내 선택을 위한 빈 slot 데이터프레임 만들기\n",
        "slot = mat.copy()\n",
        "slot.iloc[:, :] = 0"
      ],
      "execution_count": null,
      "outputs": []
    },
    {
      "cell_type": "code",
      "metadata": {
        "id": "HADRomCdhTDf"
      },
      "source": [
        "# 두 개의 취급액의 한 시간대를 놓고 경합할 경우의 확률적 선택 계산\n",
        "def probability_matching(column, prod1, prod2):\n",
        "    sale1 = mat.iloc[prod1, column]\n",
        "    sale2 = mat.iloc[prod2, column]\n",
        "    prob_sale1 = round((sale1 + 1e-15) / (sale1 + sale2 + 1e-15), 2)\n",
        "    prob_sale2 = round((sale2 + 1e-15) / (sale1 + sale2 + 1e-15), 2)\n",
        "    package = [prod1, prod2]\n",
        "    return random.choices(package, weights=[prob_sale1, prob_sale2])[0]"
      ],
      "execution_count": null,
      "outputs": []
    },
    {
      "cell_type": "code",
      "metadata": {
        "id": "ttDe-WyBZ64o"
      },
      "source": [
        "# MSPMA 알고리즘\n",
        "def mspma(now_row, max_col):\n",
        "    # 현재 상태의 값을 slot에 표시\n",
        "    slot.iloc[now_row, max_col] = 1\n",
        "    \n",
        "    # slot 테이블에서 max_col에 로우 두 개가 1로 된 경우\n",
        "    temp = np.array(slot.iloc[:, max_col])\n",
        "    if len(temp[temp == 1]) == 2:\n",
        "        \n",
        "        # now_row외에 다른 1의 row위치를 찾기\n",
        "        temp_col = list(slot.iloc[:, max_col])\n",
        "        temp_col[now_row] = -1\n",
        "        compare_row = np.where(np.array(temp_col) == 1)[0][0]\n",
        "        \n",
        "        # 확률 매칭 함수 적용\n",
        "        result = probability_matching(max_col, now_row, compare_row)\n",
        "        \n",
        "        # 비교 대상(compare_row)이 선택되는 경우 (now_row의 max_col 위치가 바뀌어야 하는 상황)\n",
        "        if result == compare_row:\n",
        "            # now_row기존의 값을 -1로 대체\n",
        "            slot.iloc[now_row, max_col] = -1\n",
        "            mat.iloc[now_row, max_col] = -1\n",
        "            \n",
        "            # now_row에 0만 있는 것들 중 가장 큰 것의 인덱스 찾기\n",
        "            max_col = np.argmax(mat.iloc[now_row, :])\n",
        "\n",
        "            # slot에 현재 now_row에서 가장 큰 값이라고 표시\n",
        "            slot.iloc[now_row, max_col] = 1\n",
        "            \n",
        "            # 재귀 함수\n",
        "            mspma(now_row, max_col)\n",
        "\n",
        "        # 현재 상품(now_row)이 선택되는 경우 (compare_row의 max_col 위치가 바뀌어야 하는 상황)\n",
        "        else:\n",
        "            # compare_row기존의 값을 -1로 대체\n",
        "            slot.iloc[compare_row, max_col] = -1\n",
        "            mat.iloc[compare_row, max_col] = -1\n",
        "            \n",
        "            # compare_row에 0만 있는 것들 중 가장 큰 것의 인덱스 찾기\n",
        "            max_col = np.argmax(mat.iloc[now_row, :])\n",
        "            \n",
        "            # slot에 현재 compare_row에서 가장 큰 값이라고 표시\n",
        "            slot.iloc[compare_row, max_col] = 1\n",
        "            \n",
        "            # 재귀함수\n",
        "            mspma(compare_row, max_col)"
      ],
      "execution_count": null,
      "outputs": []
    },
    {
      "cell_type": "code",
      "metadata": {
        "id": "Rx_-jIH6QqZN"
      },
      "source": [
        "# 최종 구현\n",
        "start_row = 0\n",
        "\n",
        "for i in range(20):\n",
        "    new_col = np.argmax(mat.iloc[start_row, :])   \n",
        "    mspma(start_row, new_col)\n",
        "    start_row += 1"
      ],
      "execution_count": null,
      "outputs": []
    },
    {
      "cell_type": "code",
      "metadata": {
        "id": "1wpM2m_XiuPW"
      },
      "source": [
        "def isHangul(text):\n",
        "    pyVer3 =  sys.version_info >= (3, 0)\n",
        "\n",
        "    if pyVer3 : # for Ver 3 or later\n",
        "        encText = text\n",
        "    else: # for Ver 2.x\n",
        "        if type(text) is not unicode:\n",
        "            encText = text.decode('utf-8')\n",
        "        else:\n",
        "            encText = text\n",
        "\n",
        "    hanCount = len(re.findall(u'[\\u3130-\\u318F\\uAC00-\\uD7A3]+', encText))\n",
        "    return hanCount > 0"
      ],
      "execution_count": null,
      "outputs": []
    },
    {
      "cell_type": "code",
      "metadata": {
        "id": "tBwckKRxi3i6",
        "outputId": "def91213-2378-497f-d013-610eed804ea5",
        "colab": {
          "base_uri": "https://localhost:8080/",
          "height": 1000
        }
      },
      "source": [
        "for i in slot.columns:\n",
        "    mother_code = slot[i][slot[i] == 1].index[0]\n",
        "    name = june_1st[june_1st['마더코드'] == mother_code]['상품명']\n",
        "    \n",
        "    cnt = 0\n",
        "    temp = set(name.values)\n",
        "    for j in temp:\n",
        "      for k in range(len(j)):\n",
        "            temp2 = j[k]\n",
        "            if isHangul(temp2):\n",
        "                cnt += 2\n",
        "            else:\n",
        "                cnt += 1\n",
        "            \n",
        "    print('*')\n",
        "    if len(i) > 2:\n",
        "        print('--------  ', '------------------', ' '+'-'*cnt+'--'+'-'*(4*len(temp)-1)+'-------')\n",
        "        print('|', i+' |','-> 마더코드:', mother_code,'| 상품:', set(name.values),'|')\n",
        "        print('--------  ', '------------------', ' '+'-'*cnt+'--'+'-'*(4*len(temp)-1)+'-------')\n",
        "    else:\n",
        "        print('-------  ', '------------------', ' '+'-'*cnt+'--'+'-'*(4*len(temp)-1)+'------')\n",
        "        print('|', i+' |','-> 마더코드:', mother_code,'| 상품:', str(temp)+'|')\n",
        "        print('-------  ', '------------------', ' '+'-'*cnt+'--'+'-'*(4*len(temp)-1)+'------')"
      ],
      "execution_count": null,
      "outputs": [
        {
          "output_type": "stream",
          "text": [
            "*\n",
            "-------   ------------------  --------------------------------------------\n",
            "| 6시 | -> 마더코드: 100554 | 상품: {'DB손해보험 참좋은운전자보험(1912)'}|\n",
            "-------   ------------------  --------------------------------------------\n",
            "*\n",
            "-------   ------------------  ------------------------------------------------\n",
            "| 7시 | -> 마더코드: 100555 | 상품: {'디비손보 아임오케이 암보험(20.05런칭)'}|\n",
            "-------   ------------------  ------------------------------------------------\n",
            "*\n",
            "-------   ------------------  -----------------------------------------------\n",
            "| 8시 | -> 마더코드: 100362 | 상품: {'에이유플러스 슈퍼선스틱 1004(최저가)'}|\n",
            "-------   ------------------  -----------------------------------------------\n",
            "*\n",
            "-------   ------------------  ---------------------------------------\n",
            "| 9시 | -> 마더코드: 100537 | 상품: {'[기간]제주바다자연산돔39마리'}|\n",
            "-------   ------------------  ---------------------------------------\n",
            "*\n",
            "--------   ------------------  ----------------------------------------\n",
            "| 10시 | -> 마더코드: 100381 | 상품: {'바비리스 퍼펙트 볼륨스타일러'} |\n",
            "--------   ------------------  ----------------------------------------\n",
            "*\n",
            "--------   ------------------  ------------------------------------------------\n",
            "| 11시 | -> 마더코드: 100445 | 상품: {'쿠미투니카 쿨 레이시 란쥬쉐이퍼&팬티'} |\n",
            "--------   ------------------  ------------------------------------------------\n",
            "*\n",
            "--------   ------------------  -------------------------------\n",
            "| 12시 | -> 마더코드: 100638 | 상품: {'램프쿡 자동회전냄비'} |\n",
            "--------   ------------------  -------------------------------\n",
            "*\n",
            "--------   ------------------  ---------------------------------------------\n",
            "| 13시 | -> 마더코드: 100348 | 상품: {'벨레즈온 심리스 원피스 4종 패키지'} |\n",
            "--------   ------------------  ---------------------------------------------\n",
            "*\n",
            "--------   ------------------  -----------------------------------------------------------------------------------------------------------------------------------------------------------------------------------------\n",
            "| 14시 | -> 마더코드: 100148 | 상품: {'LG 울트라HD TV AI ThinQ(인공지능 씽큐) 75형 75UN7850KNA', 'LG 울트라HD TV AI ThinQ(인공지능 씽큐) 65형 65UN7850KNA', 'LG 울트라HD TV AI ThinQ(인공지능 씽큐) 55형 55UN7850KNA'} |\n",
            "--------   ------------------  -----------------------------------------------------------------------------------------------------------------------------------------------------------------------------------------\n",
            "*\n",
            "--------   ------------------  --------------------------------------------------------------------------------------------------------------------------------------------------------\n",
            "| 15시 | -> 마더코드: 100205 | 상품: {'보루네오 델루나 유로탑 슬라이딩 LED침대 슈퍼싱글', '보루네오 델루나 유로탑 슬라이딩 LED침대 킹', '보루네오 델루나 유로탑 슬라이딩 LED침대 퀸'} |\n",
            "--------   ------------------  --------------------------------------------------------------------------------------------------------------------------------------------------------\n",
            "*\n",
            "--------   ------------------  ----------------------------------------------------------\n",
            "| 16시 | -> 마더코드: 100501 | 상품: {'파격가 노비타 스마트 비데 무료설치(변기세정제)'} |\n",
            "--------   ------------------  ----------------------------------------------------------\n",
            "*\n",
            "--------   ------------------  -------------------------------------------------------------------------------------------------------------------------\n",
            "| 17시 | -> 마더코드: 100383 | 상품: {'한라궁 황칠 제주오메기떡 2종 40개 (호박오메기20봉+팥오메기20봉)', '한라궁 황칠 제주오메기떡 40개 (60g * 40봉)'} |\n",
            "--------   ------------------  -------------------------------------------------------------------------------------------------------------------------\n",
            "*\n",
            "--------   ------------------  ------------------------------------------------------------------\n",
            "| 18시 | -> 마더코드: 100320 | 상품: {'올바로 문어발 샤워기 1+1', '올바로 문어발 샤워기 1세트'} |\n",
            "--------   ------------------  ------------------------------------------------------------------\n",
            "*\n",
            "--------   ------------------  -------------------------------------\n",
            "| 19시 | -> 마더코드: 100650 | 상품: {'잭필드 남성  반팔셔츠 4종'} |\n",
            "--------   ------------------  -------------------------------------\n",
            "*\n",
            "--------   ------------------  -----------------------------------------\n",
            "| 20시 | -> 마더코드: 100416 | 상품: {'코몽트 남성 티셔츠 8종(시즌1)'} |\n",
            "--------   ------------------  -----------------------------------------\n",
            "*\n",
            "--------   ------------------  -------------------------------------------------------------\n",
            "| 21시 | -> 마더코드: 100526 | 상품: {'소노비 줄리엣 소가죽 토트백 1종+투숄더 버킷백 1종'} |\n",
            "--------   ------------------  -------------------------------------------------------------\n",
            "*\n",
            "--------   ------------------  ------------------------------------------------------------\n",
            "| 22시 | -> 마더코드: 100080 | 상품: {'아키 라이크라 릴렉스 보정브라 패키지(뉴아키28차)'} |\n",
            "--------   ------------------  ------------------------------------------------------------\n",
            "*\n",
            "--------   ------------------  ---------------------------------------------------------------------\n",
            "| 23시 | -> 마더코드: 100570 | 상품: {'(특)KT휴대폰_삼성갤럭시 A31', 'KT휴대폰_삼성갤럭시 노트10'} |\n",
            "--------   ------------------  ---------------------------------------------------------------------\n",
            "*\n",
            "-------   ------------------  -----------------------------------------------\n",
            "| 0시 | -> 마더코드: 100150 | 상품: {'LG전자 통돌이 세탁기 TR14WK1(화이트)'}|\n",
            "-------   ------------------  -----------------------------------------------\n",
            "*\n",
            "-------   ------------------  --------------------------------\n",
            "| 1시 | -> 마더코드: 100012 | 상품: {'AAC 삼채포기김치 10kg'}|\n",
            "-------   ------------------  --------------------------------\n"
          ],
          "name": "stdout"
        }
      ]
    },
    {
      "cell_type": "markdown",
      "metadata": {
        "id": "Oa7IkhFBmtOT"
      },
      "source": [
        "## * 참고: 기존의 편성표 취급액 합과 MSPMA 적용 후 편성표 취급액 합 비교"
      ]
    },
    {
      "cell_type": "markdown",
      "metadata": {
        "id": "En9ThK0nnZDV"
      },
      "source": [
        "기존의 취급액 합"
      ]
    },
    {
      "cell_type": "code",
      "metadata": {
        "id": "dtipzzHIlhmw"
      },
      "source": [
        "sclr = RobustScaler()\n",
        "sclr.fit(june_1st.iloc[:, 8:])\n",
        "test_scaled = pd.DataFrame(scaler.transform(june_1st.iloc[:, 8:]), columns=june_1st.iloc[:, 8:].columns)"
      ],
      "execution_count": null,
      "outputs": []
    },
    {
      "cell_type": "code",
      "metadata": {
        "id": "ze4n1QHUmp-z"
      },
      "source": [
        "# model 생성\n",
        "input_layer = Input((test_scaled.shape[1], 1))\n",
        "output_layer = build_model(input_layer, 512)\n",
        "model = Model(input_layer, output_layer)\n",
        "\n",
        "# model 가중치 불러오기\n",
        "model.load_weights('/content/drive/Shared drives/빅콘테스트2020/weights/mspma/functional_1.50-34.5923.hdf5')"
      ],
      "execution_count": null,
      "outputs": []
    },
    {
      "cell_type": "code",
      "metadata": {
        "id": "4wRE6jJPmp-2"
      },
      "source": [
        "# 수량 예측\n",
        "y_pred = model.predict(test_scaled.values)"
      ],
      "execution_count": null,
      "outputs": []
    },
    {
      "cell_type": "code",
      "metadata": {
        "id": "UY3YraRPmp-4"
      },
      "source": [
        "y_pred = y_pred.reshape(-1)"
      ],
      "execution_count": null,
      "outputs": []
    },
    {
      "cell_type": "code",
      "metadata": {
        "id": "ZtU5lrMgoLZa",
        "outputId": "78f4ef11-7033-45cb-ff9f-647807c1835c",
        "colab": {
          "base_uri": "https://localhost:8080/",
          "height": 34
        }
      },
      "source": [
        "sum(june_1st['판매단가'] * y_pred)"
      ],
      "execution_count": null,
      "outputs": [
        {
          "output_type": "execute_result",
          "data": {
            "text/plain": [
              "642569547.9828835"
            ]
          },
          "metadata": {
            "tags": []
          },
          "execution_count": 58
        }
      ]
    },
    {
      "cell_type": "markdown",
      "metadata": {
        "id": "JUofbF2XnUJo"
      },
      "source": [
        "MSPMA 이후 취급액 합"
      ]
    },
    {
      "cell_type": "code",
      "metadata": {
        "id": "WQCUT9dFnPmV"
      },
      "source": [
        "new_sum = 0"
      ],
      "execution_count": null,
      "outputs": []
    },
    {
      "cell_type": "code",
      "metadata": {
        "id": "bCOmW5XDncz4"
      },
      "source": [
        "for i in slot.columns:\n",
        "    mother_code = slot[i][slot[i] == 1].index[0]\n",
        "    new_sum += mat[i][mother_code]"
      ],
      "execution_count": null,
      "outputs": []
    },
    {
      "cell_type": "code",
      "metadata": {
        "id": "pziGoy4FoEbk",
        "outputId": "46248025-f859-493c-f7aa-e22db5131262",
        "colab": {
          "base_uri": "https://localhost:8080/",
          "height": 34
        }
      },
      "source": [
        "new_sum"
      ],
      "execution_count": null,
      "outputs": [
        {
          "output_type": "execute_result",
          "data": {
            "text/plain": [
              "811232518.2867279"
            ]
          },
          "metadata": {
            "tags": []
          },
          "execution_count": 61
        }
      ]
    },
    {
      "cell_type": "code",
      "metadata": {
        "id": "F3rPjldBTOzq"
      },
      "source": [
        ""
      ],
      "execution_count": null,
      "outputs": []
    }
  ]
}